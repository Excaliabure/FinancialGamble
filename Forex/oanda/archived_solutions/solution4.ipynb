{
 "cells": [
  {
   "cell_type": "code",
   "execution_count": 1,
   "metadata": {},
   "outputs": [
    {
     "name": "stdout",
     "output_type": "stream",
     "text": [
      "WARNING:tensorflow:From c:\\Users\\excal\\AppData\\Local\\Programs\\Python\\Python310\\lib\\site-packages\\ray\\rllib\\utils\\framework.py:180: The name tf.logging.set_verbosity is deprecated. Please use tf.compat.v1.logging.set_verbosity instead.\n",
      "\n",
      "WARNING:tensorflow:From c:\\Users\\excal\\AppData\\Local\\Programs\\Python\\Python310\\lib\\site-packages\\tf_keras\\src\\losses.py:2976: The name tf.losses.sparse_softmax_cross_entropy is deprecated. Please use tf.compat.v1.losses.sparse_softmax_cross_entropy instead.\n",
      "\n",
      "WARNING:tensorflow:From c:\\Users\\excal\\AppData\\Local\\Programs\\Python\\Python310\\lib\\site-packages\\tensorflow_probability\\python\\internal\\backend\\numpy\\_utils.py:48: The name tf.logging.TaskLevelStatusMessage is deprecated. Please use tf.compat.v1.logging.TaskLevelStatusMessage instead.\n",
      "\n",
      "WARNING:tensorflow:From c:\\Users\\excal\\AppData\\Local\\Programs\\Python\\Python310\\lib\\site-packages\\tensorflow_probability\\python\\internal\\backend\\numpy\\_utils.py:48: The name tf.control_flow_v2_enabled is deprecated. Please use tf.compat.v1.control_flow_v2_enabled instead.\n",
      "\n",
      "YF.download() has changed argument auto_adjust default to True\n"
     ]
    }
   ],
   "source": [
    "import matplotlib.pyplot as plt\n",
    "import forex as fx\n",
    "import json\n",
    "import numpy as np\n",
    "import gymnasium as gym\n",
    "import ray\n",
    "from ray.rllib.algorithms.ppo import PPOConfig\n",
    "import random\n",
    "from ray.tune.registry import register_env\n",
    "import os\n",
    "from tqdm import tqdm\n",
    "t = fx.hr(\"EUR_USD\")\n",
    "\n"
   ]
  },
  {
   "cell_type": "code",
   "execution_count": 55,
   "metadata": {},
   "outputs": [
    {
     "name": "stdout",
     "output_type": "stream",
     "text": [
      "SHAPE #######################\n",
      "(32, 13)\n"
     ]
    },
    {
     "data": {
      "text/plain": [
       "1.1277772188186646"
      ]
     },
     "execution_count": 55,
     "metadata": {},
     "output_type": "execute_result"
    }
   ],
   "source": [
    "\n",
    "ENV_CONFIG = {\"pair\" : \"EUR_USD\",\n",
    "              \"time\" : \"hour\"}\n",
    "\n",
    "class sol4_env(gym.Env):\n",
    "    def __init__(self, config=None):\n",
    "\n",
    "\n",
    "        # self.history = fx.min(\"EUR_USD\").to_numpy()[0][:,1:5]\n",
    "        # if \"pair\" not in config.keys():\n",
    "        if config[\"time\"] in [\"day\", \"d\", \"Day\"]:\n",
    "            self.history = fx.day(config[\"pair\"]).to_numpy()[0][:,1:5]\n",
    "        elif config[\"time\"] in [\"minute\", \"min\", \"m\"]:\n",
    "            self.history = fx.min(config[\"pair\"]).to_numpy()[0][:,1:5]\n",
    "        else:\n",
    "            self.history = fx.hr(config[\"pair\"]).to_numpy()[0][:,1:5]\n",
    "        \n",
    "        self.hr = fx.hr(config[\"pair\"]).to_numpy()[0][:,1:5]\n",
    "        self.min = fx.min(config[\"pair\"]).to_numpy()[0][:,1:5]\n",
    "        self.day = fx.day(config[\"pair\"]).to_numpy()[0][:,1:5]\n",
    "        self.history = self.hr\n",
    "                    \n",
    "        arr = self.history\n",
    "        a,b,c = fx.algo.bollinger_bands(arr)\n",
    "        d,e,f = fx.algo.macd(arr)\n",
    "        g = fx.algo.rsi(arr)\n",
    "        h, _i = fx.algo.smi(arr)\n",
    "\n",
    "\n",
    "        hstackarr = [arr, a,b,c,d,e,f,g,h,_i]\n",
    "        mval = min([i.shape for i in hstackarr])[0]\n",
    "\n",
    "\n",
    "        for i in range(len(hstackarr)):\n",
    "            hstackarr[i] = hstackarr[i][hstackarr[i].shape[0] - mval : ]\n",
    "            if i != 0:\n",
    "                hstackarr[i] = hstackarr[i].reshape(len(hstackarr[i]),1)\n",
    "\n",
    "        self.history = np.hstack(hstackarr)\n",
    "\n",
    "            \n",
    "        self.action_space = gym.spaces.Discrete(3) \n",
    "        r1 = random.randint(0,len(self.history) - 128)\n",
    "        _state = self.history[r1: r1+64]\n",
    "        self._s1 = _state[:32]#.flatten()\n",
    "        self._s2 = _state[32:]#.flatten()\n",
    "        print(f\"SHAPE #######################\\n{self._s1.shape}\")\n",
    "        self.c = 0\n",
    "        self.iters = 50000\n",
    "        self.total_reward = 0\n",
    "        self.observation_space = gym.spaces.Box(0.0, 2.0, shape=(32,4), dtype=np.float64)\n",
    "        \n",
    "\n",
    "        ### test\n",
    "        self.monie = 100\n",
    "        \n",
    "\n",
    "    def reset(self, seed=None, options=None):\n",
    "\n",
    "        r1 = random.randint(0,len(self.history) - 128)\n",
    "        _state = self.history[r1: r1+64]\n",
    "        self._s1 = _state[:32]#.flatten()\n",
    "        self._s2 = _state[32:]#.flatten()\n",
    "        # print(f\"SHAPE #########################\\n{self._s1.shape} {self._s2.shape}\")\n",
    "        self.counting = 0\n",
    "        self.monie=100\n",
    "\n",
    "        # return np.array([1.0]), {}\n",
    "        return self._s1, {\"total_reward\" : self.total_reward}\n",
    "\n",
    "    def step(self, action):\n",
    "        \n",
    "        reward = 0\n",
    "        terminated = False\n",
    "        \n",
    "        s1_v = self._s1[-1][0]\n",
    "        s2_v = self._s2[-1][0]\n",
    "        # print(self._s1[-1])\n",
    "\n",
    "        if action == 0:\n",
    "            # buy \n",
    "            # print(\"[BUY]\")\n",
    "            if s1_v < s2_v:\n",
    "                reward = s2_v - s1_v\n",
    "                reward = 1\n",
    "            else:\n",
    "                reward = -(s2_v - s1_v)\n",
    "                reward = -1  \n",
    "        if action == 1:\n",
    "            # sell\n",
    "            # print(\"[SELL]\")\n",
    "            if s1_v > s2_v:\n",
    "                reward = s2_v - s1_v\n",
    "                reward = 1\n",
    "            else:\n",
    "                reward = -(s2_v - s1_v)\n",
    "                reward = -1\n",
    "        \n",
    "        if action == 2:\n",
    "            # hold\n",
    "            # print(\"[HOLD]\")\n",
    "            reward = 0\n",
    "            \n",
    "        \n",
    "        r1 = random.randint(0,len(self.history) - 128)\n",
    "        _state = self.history[r1: r1+64]\n",
    "        self._s1 = _state[:32]#.flatten()\n",
    "        self._s2 = _state[32:]#.flatten()\n",
    "\n",
    "        # hist_stats = {\n",
    "        # \"total_reward\": self.total_reward,\n",
    "        # \"average_reward\": self.total_reward / (self.counting if self.counting > 0 else 1),\n",
    "        # \"episode_length\": self.counting\n",
    "        # }\n",
    "\n",
    "        self.monie += reward\n",
    "        # print(self.monie)\n",
    "        if reward < -0.5:\n",
    "            return self._s1, reward, True, False, {}#{\"total_reward\": reward, \"hist_stats\": hist_stats}\n",
    "\n",
    "        self.counting += 1\n",
    "        self.total_reward += reward\n",
    "        \n",
    "        # Return next observation, reward, terminated, truncated, and info dict (now with hist_stats)\n",
    "        return self._s1, reward, False, False, {}#{\"custom_metrics\" : \"Hi\"}#{\"total_reward\": reward, \"hist_stats\": hist_stats}\n",
    "\n",
    "t = sol4_env({\"pair\" : \"EUR_USD\",\n",
    "              \"time\" : \"hr\"})\n",
    "\n",
    "\n",
    "t.history.max()\n"
   ]
  },
  {
   "cell_type": "code",
   "execution_count": null,
   "metadata": {},
   "outputs": [
    {
     "data": {
      "text/plain": [
       "array([[ 1.09063148,  1.09146476,  1.08932459, ...,  0.48761028,\n",
       "        -0.40110843, -0.09505875],\n",
       "       [ 1.09721303,  1.09745395,  1.09158385, ...,  0.65952774,\n",
       "         0.85071797,  0.37782961],\n",
       "       [ 1.09553027,  1.09721303,  1.0952903 , ...,  0.62992135,\n",
       "         0.9309569 ,  0.65439326],\n",
       "       ...,\n",
       "       [ 1.0789814 ,  1.07968044,  1.07886505, ...,  0.35643582,\n",
       "        -0.99285585, -0.97660369],\n",
       "       [ 1.07921433,  1.0793308 ,  1.07886505, ...,  0.42160073,\n",
       "        -0.99607496, -0.98633932],\n",
       "       [ 1.07979703,  1.07979703,  1.07921433, ...,  0.44337695,\n",
       "        -0.99698666, -0.99166299]])"
      ]
     },
     "execution_count": 47,
     "metadata": {},
     "output_type": "execute_result"
    }
   ],
   "source": [
    "arr = fx.hr(\"EUR_USD\").chlo\n",
    "a,b,c = fx.algo.bollinger_bands(arr)\n",
    "d,e,f = fx.algo.macd(arr)\n",
    "g = fx.algo.rsi(arr)\n",
    "h, _i = fx.algo.smi(arr)\n",
    "\n",
    "\n",
    "hstackarr = [arr, a,b,c,d,e,f,g,h,_i]\n",
    "mval = min([i.shape for i in hstackarr])[0]\n",
    "\n",
    "\n",
    "for i in range(len(hstackarr)):\n",
    "    hstackarr[i] = hstackarr[i][hstackarr[i].shape[0] - mval : ]\n",
    "    if i != 0:\n",
    "        hstackarr[i] = hstackarr[i].reshape(len(hstackarr[i]),1)\n",
    "\n",
    "np.hstack(hstackarr)\n"
   ]
  },
  {
   "cell_type": "code",
   "execution_count": 15,
   "metadata": {},
   "outputs": [
    {
     "data": {
      "text/plain": [
       "array([[1.08061373, 1.08283699, 1.08049703, 1.08283699],\n",
       "       [1.08178282, 1.08178282, 1.08038032, 1.08061373],\n",
       "       [1.08119798, 1.08189976, 1.08073056, 1.08154881],\n",
       "       ...,\n",
       "       [1.0789814 , 1.07968044, 1.07886505, 1.07956386],\n",
       "       [1.07921433, 1.0793308 , 1.07886505, 1.0789814 ],\n",
       "       [1.0793308 , 1.07944727, 1.07921433, 1.07921433]])"
      ]
     },
     "execution_count": 15,
     "metadata": {},
     "output_type": "execute_result"
    }
   ],
   "source": [
    "arr"
   ]
  },
  {
   "cell_type": "code",
   "execution_count": null,
   "metadata": {},
   "outputs": [],
   "source": []
  }
 ],
 "metadata": {
  "kernelspec": {
   "display_name": "Python 3",
   "language": "python",
   "name": "python3"
  },
  "language_info": {
   "codemirror_mode": {
    "name": "ipython",
    "version": 3
   },
   "file_extension": ".py",
   "mimetype": "text/x-python",
   "name": "python",
   "nbconvert_exporter": "python",
   "pygments_lexer": "ipython3",
   "version": "3.10.6"
  }
 },
 "nbformat": 4,
 "nbformat_minor": 2
}
