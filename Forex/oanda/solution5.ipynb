{
 "cells": [
  {
   "cell_type": "code",
   "execution_count": null,
   "id": "12de5554",
   "metadata": {
    "vscode": {
     "languageId": "plaintext"
    }
   },
   "outputs": [],
   "source": [
    "import forex as fx\n",
    "import json\n",
    "import time\n",
    "\n",
    "\n",
    "from oandapyV20.endpoints.pricing import PricingInfo\n",
    "import oandapyV20.endpoints.positions as Positions\n",
    "import oandapyV20.endpoints.accounts as Account\n",
    "\n",
    "import oandapyV20.endpoints.orders as Order\n",
    "from oandapyV20 import API\n",
    "import datetime\n",
    "\n",
    "# super trend function\n",
    "\n",
    "def data_arr_collection(filename,name,val):\n",
    "\n",
    "   pass\n",
    "\n",
    "if __name__ == '__main__':\n",
    "    \n",
    "    from oandapyV20 import API\n",
    "    apiKey = None\n",
    "    accountID = None\n",
    "    with open(\"dev_settings.json\", \"r\") as file:\n",
    "        d = json.load(file)\n",
    "        apiKey = d[\"acckey\"]\n",
    "        accountID = d[\"accid\"]\n",
    "    \n",
    "    \n",
    "        \n"
   ]
  }
 ],
 "metadata": {
  "language_info": {
   "name": "python"
  }
 },
 "nbformat": 4,
 "nbformat_minor": 5
}
