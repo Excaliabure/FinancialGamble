{
 "cells": [
  {
   "cell_type": "code",
   "execution_count": 25,
   "metadata": {},
   "outputs": [
    {
     "data": {
      "text/plain": [
       "np.float64(0.29289321881345687)"
      ]
     },
     "execution_count": 25,
     "metadata": {},
     "output_type": "execute_result"
    }
   ],
   "source": [
    "iters = 50\n",
    "import numpy as np\n",
    "import matplotlib.pyplot as plt\n",
    "x = np.zeros(500)\n",
    "x[0] = 2\n",
    "x[1] = 1\n",
    "for n in range(2,500):\n",
    "    x[n] = 2 * x[n-1] - x[n-2]/2\n",
    "\n",
    "y = np.zeros(500)\n",
    "for n in range(len(x)):\n",
    "    y[n] = x[n] / ((1 + np.sqrt(2)/2) ** n)\n",
    "\n",
    "# plt.plot(y)\n",
    "y[-1]"
   ]
  }
 ],
 "metadata": {
  "kernelspec": {
   "display_name": "Python 3",
   "language": "python",
   "name": "python3"
  },
  "language_info": {
   "codemirror_mode": {
    "name": "ipython",
    "version": 3
   },
   "file_extension": ".py",
   "mimetype": "text/x-python",
   "name": "python",
   "nbconvert_exporter": "python",
   "pygments_lexer": "ipython3",
   "version": "3.10.6"
  }
 },
 "nbformat": 4,
 "nbformat_minor": 2
}
