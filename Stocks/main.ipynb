{
 "cells": [
  {
   "cell_type": "code",
   "execution_count": 1,
   "id": "d1f11a51",
   "metadata": {},
   "outputs": [],
   "source": [
    "import ffn\n",
    "\n",
    "\n",
    "# prices = ffn.get('aapl', start='2010-01-01')\n",
    "\n",
    "# ax = prices.rebase().plot()\n"
   ]
  },
  {
   "cell_type": "code",
   "execution_count": null,
   "id": "7aea7a53",
   "metadata": {},
   "outputs": [
    {
     "name": "stdout",
     "output_type": "stream",
     "text": [
      "Collecting coinmarketcap\n",
      "  Downloading coinmarketcap-5.0.3.tar.gz (7.0 kB)\n",
      "  Installing build dependencies: started\n",
      "  Installing build dependencies: finished with status 'done'\n",
      "  Getting requirements to build wheel: started\n",
      "  Getting requirements to build wheel: finished with status 'done'\n",
      "  Preparing metadata (pyproject.toml): started\n",
      "  Preparing metadata (pyproject.toml): finished with status 'done'\n",
      "Requirement already satisfied: requests>=2.18.4 in c:\\users\\excal\\onedrive\\documents\\github\\financialgamble\\.venv\\lib\\site-packages (from coinmarketcap) (2.32.5)\n",
      "Collecting requests_cache>=0.4.13 (from coinmarketcap)\n",
      "  Downloading requests_cache-1.2.1-py3-none-any.whl.metadata (9.9 kB)\n",
      "Requirement already satisfied: charset_normalizer<4,>=2 in c:\\users\\excal\\onedrive\\documents\\github\\financialgamble\\.venv\\lib\\site-packages (from requests>=2.18.4->coinmarketcap) (3.4.3)\n",
      "Requirement already satisfied: idna<4,>=2.5 in c:\\users\\excal\\onedrive\\documents\\github\\financialgamble\\.venv\\lib\\site-packages (from requests>=2.18.4->coinmarketcap) (3.10)\n",
      "Requirement already satisfied: urllib3<3,>=1.21.1 in c:\\users\\excal\\onedrive\\documents\\github\\financialgamble\\.venv\\lib\\site-packages (from requests>=2.18.4->coinmarketcap) (2.5.0)\n",
      "Requirement already satisfied: certifi>=2017.4.17 in c:\\users\\excal\\onedrive\\documents\\github\\financialgamble\\.venv\\lib\\site-packages (from requests>=2.18.4->coinmarketcap) (2025.8.3)\n",
      "Collecting attrs>=21.2 (from requests_cache>=0.4.13->coinmarketcap)\n",
      "  Downloading attrs-25.4.0-py3-none-any.whl.metadata (10 kB)\n",
      "Collecting cattrs>=22.2 (from requests_cache>=0.4.13->coinmarketcap)\n",
      "  Downloading cattrs-25.2.0-py3-none-any.whl.metadata (8.4 kB)\n",
      "Requirement already satisfied: platformdirs>=2.5 in c:\\users\\excal\\onedrive\\documents\\github\\financialgamble\\.venv\\lib\\site-packages (from requests_cache>=0.4.13->coinmarketcap) (4.4.0)\n",
      "Collecting url-normalize>=1.4 (from requests_cache>=0.4.13->coinmarketcap)\n",
      "  Downloading url_normalize-2.2.1-py3-none-any.whl.metadata (5.6 kB)\n",
      "Requirement already satisfied: typing-extensions>=4.12.2 in c:\\users\\excal\\onedrive\\documents\\github\\financialgamble\\.venv\\lib\\site-packages (from cattrs>=22.2->requests_cache>=0.4.13->coinmarketcap) (4.15.0)\n",
      "Downloading requests_cache-1.2.1-py3-none-any.whl (61 kB)\n",
      "Downloading attrs-25.4.0-py3-none-any.whl (67 kB)\n",
      "Downloading cattrs-25.2.0-py3-none-any.whl (70 kB)\n",
      "Downloading url_normalize-2.2.1-py3-none-any.whl (14 kB)\n",
      "Building wheels for collected packages: coinmarketcap\n",
      "  Building wheel for coinmarketcap (pyproject.toml): started\n",
      "  Building wheel for coinmarketcap (pyproject.toml): finished with status 'done'\n",
      "  Created wheel for coinmarketcap: filename=coinmarketcap-5.0.3-py3-none-any.whl size=6200 sha256=9c82b9ccba187cbc1c8da07cdb6cfd92b0d6ad75289763dadda9de63bb3396e3\n",
      "  Stored in directory: c:\\users\\excal\\appdata\\local\\pip\\cache\\wheels\\30\\35\\c2\\a8cf3153f1cea5626586101b255912212fa6b02bd10552d150\n",
      "Successfully built coinmarketcap\n",
      "Installing collected packages: url-normalize, attrs, cattrs, requests_cache, coinmarketcap\n",
      "\n",
      "   -------- ------------------------------- 1/5 [attrs]\n",
      "   -------- ------------------------------- 1/5 [attrs]\n",
      "   ---------------- ----------------------- 2/5 [cattrs]\n",
      "   ---------------- ----------------------- 2/5 [cattrs]\n",
      "   ------------------------ --------------- 3/5 [requests_cache]\n",
      "   ------------------------ --------------- 3/5 [requests_cache]\n",
      "   ---------------------------------------- 5/5 [coinmarketcap]\n",
      "\n",
      "Successfully installed attrs-25.4.0 cattrs-25.2.0 coinmarketcap-5.0.3 requests_cache-1.2.1 url-normalize-2.2.1\n"
     ]
    }
   ],
   "source": []
  }
 ],
 "metadata": {
  "kernelspec": {
   "display_name": ".venv",
   "language": "python",
   "name": "python3"
  },
  "language_info": {
   "codemirror_mode": {
    "name": "ipython",
    "version": 3
   },
   "file_extension": ".py",
   "mimetype": "text/x-python",
   "name": "python",
   "nbconvert_exporter": "python",
   "pygments_lexer": "ipython3",
   "version": "3.13.5"
  }
 },
 "nbformat": 4,
 "nbformat_minor": 5
}
