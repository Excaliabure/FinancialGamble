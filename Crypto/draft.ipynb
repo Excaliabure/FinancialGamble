{
 "cells": [
  {
   "cell_type": "code",
   "execution_count": 2,
   "metadata": {},
   "outputs": [],
   "source": [
    "import requests\n",
    "a = requests.get(\"https://bullx.io/pump-vision\")"
   ]
  },
  {
   "cell_type": "code",
   "execution_count": 2,
   "metadata": {},
   "outputs": [
    {
     "name": "stdout",
     "output_type": "stream",
     "text": [
      "Fetched 16484 cryptocurrencies.\n"
     ]
    }
   ],
   "source": [
    "import requests\n",
    "import json\n",
    "\n",
    "def fetch_new_crypto_coins():\n",
    "    # CoinGecko API endpoint for fetching new crypto coins\n",
    "    url = \"https://api.coingecko.com/api/v3/coins/list\"\n",
    "\n",
    "    try:\n",
    "        response = requests.get(url)\n",
    "        response.raise_for_status()\n",
    "        data = response.json()\n",
    "\n",
    "        # Sort coins by addition date (newest first, if available)\n",
    "        # Note: The CoinGecko API does not directly provide a creation or addition date,\n",
    "        # so you might need to filter based on other criteria if required.\n",
    "\n",
    "        print(f\"Fetched {len(data)} cryptocurrencies.\")\n",
    "        return data\n",
    "    except requests.exceptions.RequestException as e:\n",
    "        print(f\"An error occurred: {e}\")\n",
    "        return []\n",
    "\n",
    "def save_to_file(data, filename=\"new_crypto_coins.json\"):\n",
    "    with open(filename, \"w\") as file:\n",
    "        json.dump(data, file, indent=4)\n",
    "    print(f\"Saved data to {filename}\")\n",
    "\n",
    "d = fetch_new_crypto_coins()\n"
   ]
  },
  {
   "cell_type": "code",
   "execution_count": null,
   "metadata": {},
   "outputs": [
    {
     "data": {
      "text/plain": [
       "{'id': '0xdao', 'symbol': 'oxd', 'name': '0xDAO'}"
      ]
     },
     "execution_count": 7,
     "metadata": {},
     "output_type": "execute_result"
    }
   ],
   "source": [
    "d[12]['id']"
   ]
  },
  {
   "cell_type": "code",
   "execution_count": null,
   "metadata": {},
   "outputs": [
    {
     "name": "stdout",
     "output_type": "stream",
     "text": [
      "Collecting websocket-client\n",
      "  Downloading websocket_client-1.8.0-py3-none-any.whl.metadata (8.0 kB)\n",
      "Downloading websocket_client-1.8.0-py3-none-any.whl (58 kB)\n",
      "Installing collected packages: websocket-client\n",
      "Successfully installed websocket-client-1.8.0\n"
     ]
    }
   ],
   "source": [
    "import websocket\n",
    "import json\n",
    "import threading\n",
    "\n",
    "def on_message(ws, message):\n",
    "    data = json.loads(message)\n",
    "    symbol = data['s']\n",
    "    price = data['c']\n",
    "    print(f\"{symbol}: ${price}\")\n",
    "\n",
    "def on_error(ws, error):\n",
    "    print(f\"Error: {error}\")\n",
    "\n",
    "def on_close(ws, close_status_code, close_msg):\n",
    "    print(\"WebSocket closed\")\n",
    "\n",
    "def on_open(ws):\n",
    "    # List of cryptocurrency symbols to track (Binance format, e.g., BTCUSDT)\n",
    "    symbols = [\"btcusdt\", \"ethusdt\", \"bnbusdt\"]  # Add the symbols of the coins you want to track\n",
    "    for symbol in symbols:\n",
    "        params = {\n",
    "            \"method\": \"SUBSCRIBE\",\n",
    "            \"params\": [f\"{symbol}@ticker\"],\n",
    "            \"id\": 1\n",
    "        }\n",
    "        ws.send(json.dumps(params))\n",
    "\n",
    "def start_websocket():\n",
    "    websocket_url = \"wss://stream.binance.com:9443/ws\"\n",
    "    ws = websocket.WebSocketApp(websocket_url,\n",
    "                                on_open=on_open,\n",
    "                                on_message=on_message,\n",
    "                                on_error=on_error,\n",
    "                                on_close=on_close)\n",
    "    ws.run_forever()\n",
    "\n",
    "if __name__ == \"__main__\":\n",
    "    print(\"Starting real-time cryptocurrency price tracking...\")\n",
    "    websocket_thread = threading.Thread(target=start_websocket)\n",
    "    websocket_thread.start()\n"
   ]
  },
  {
   "cell_type": "markdown",
   "metadata": {},
   "source": [
    "- Find new currency to track\n",
    "\n",
    "- Start tracking \n",
    "\n",
    "- Apply (ddy - dy) logic\n",
    "\n",
    "- Profit?\n"
   ]
  },
  {
   "cell_type": "markdown",
   "metadata": {},
   "source": [
    "# Find new currency"
   ]
  },
  {
   "cell_type": "code",
   "execution_count": null,
   "metadata": {},
   "outputs": [
    {
     "name": "stdout",
     "output_type": "stream",
     "text": [
      "Fetched 16484 cryptocurrencies.\n"
     ]
    }
   ],
   "source": [
    "# Find new currency \n",
    "import random\n",
    "def fetch_new_crypto_coins():\n",
    "    # CoinGecko API endpoint for fetching new crypto coins\n",
    "    url = \"https://api.coingecko.com/api/v3/coins/list\"\n",
    "\n",
    "    try:\n",
    "        response = requests.get(url)\n",
    "        response.raise_for_status()\n",
    "        data = response.json()\n",
    "\n",
    "        # Sort coins by addition date (newest first, if available)\n",
    "        # Note: The CoinGecko API does not directly provide a creation or addition date,\n",
    "        # so you might need to filter based on other criteria if required.\n",
    "\n",
    "        print(f\"Fetched {len(data)} cryptocurrencies.\")\n",
    "        return data\n",
    "    except requests.exceptions.RequestException as e:\n",
    "        print(f\"An error occurred: {e}\")\n",
    "        return []\n",
    "\n",
    "arr = fetch_new_crypto_coins()\n",
    "r = random.randint(0,len(arr))\n"
   ]
  },
  {
   "cell_type": "markdown",
   "metadata": {},
   "source": [
    "# Start Tracking"
   ]
  },
  {
   "cell_type": "code",
   "execution_count": null,
   "metadata": {},
   "outputs": [
    {
     "data": {
      "text/plain": [
       "{'id': 'sportsology-game', 'symbol': 'game', 'name': '$GAME Token'}"
      ]
     },
     "execution_count": 9,
     "metadata": {},
     "output_type": "execute_result"
    }
   ],
   "source": [
    "\n",
    "currency = arr[r]\n"
   ]
  },
  {
   "cell_type": "markdown",
   "metadata": {},
   "source": [
    "# Apply (ddy - dy)"
   ]
  }
 ],
 "metadata": {
  "kernelspec": {
   "display_name": "Python 3",
   "language": "python",
   "name": "python3"
  },
  "language_info": {
   "codemirror_mode": {
    "name": "ipython",
    "version": 3
   },
   "file_extension": ".py",
   "mimetype": "text/x-python",
   "name": "python",
   "nbconvert_exporter": "python",
   "pygments_lexer": "ipython3",
   "version": "3.10.6"
  }
 },
 "nbformat": 4,
 "nbformat_minor": 2
}
